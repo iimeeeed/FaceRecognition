{
 "cells": [
  {
   "cell_type": "markdown",
   "metadata": {},
   "source": [
    "## Load the LWF Dataset"
   ]
  },
  {
   "cell_type": "code",
   "execution_count": null,
   "metadata": {},
   "outputs": [],
   "source": [
    "from sklearn.datasets import fetch_lfw_people\n",
    "import matplotlib.pyplot as plt\n",
    "\n",
    "# Download the LFW dataset\n",
    "lfw_people = fetch_lfw_people(min_faces_per_person=70, resize=0.4)\n",
    "\n",
    "# Access data\n",
    "images = lfw_people.images\n",
    "labels = lfw_people.target\n",
    "target_names = lfw_people.target_names\n",
    "\n",
    "# Showing the first 10 images\n",
    "fig, axes = plt.subplots(2, 5, figsize=(15, 8))\n",
    "for i, ax in enumerate(axes.ravel()):\n",
    "    ax.imshow(images[i], cmap='gray')\n",
    "    ax.set_title(target_names[labels[i]])\n",
    "    ax.axis('off')\n",
    "\n",
    "plt.show()\n"
   ]
  },
  {
   "cell_type": "markdown",
   "metadata": {},
   "source": [
    "## Save the images,labes and names"
   ]
  },
  {
   "cell_type": "code",
   "execution_count": null,
   "metadata": {},
   "outputs": [],
   "source": [
    "import pickle\n",
    "\n",
    "\n",
    "# Save the data to a file\n",
    "with open('Dataset\\\\lfw_people.pkl', 'wb') as f:\n",
    "    pickle.dump(lfw_people, f)\n",
    "\n",
    "# Save images, labels, and target names separately\n",
    "images = lfw_people.images\n",
    "labels = lfw_people.target\n",
    "target_names = lfw_people.target_names\n",
    "\n",
    "# Saving individual components in case we need them seperated\n",
    "with open('Dataset\\\\lfw_images.pkl', 'wb') as f_img, open('Dataset\\\\lfw_labels.pkl', 'wb') as f_lbl, open('Dataset\\\\lfw_target_names.pkl', 'wb') as f_names:\n",
    "    pickle.dump(images, f_img)\n",
    "    pickle.dump(labels, f_lbl)\n",
    "    pickle.dump(target_names, f_names)\n",
    "\n",
    "print(\"LFW dataset saved successfully.\")\n"
   ]
  },
  {
   "cell_type": "markdown",
   "metadata": {},
   "source": [
    "## Using ResNet50 for embedding"
   ]
  },
  {
   "cell_type": "code",
   "execution_count": null,
   "metadata": {},
   "outputs": [],
   "source": []
  },
  {
   "cell_type": "markdown",
   "metadata": {},
   "source": [
    "## Storing the embeddings to FAISS vector db"
   ]
  },
  {
   "cell_type": "code",
   "execution_count": null,
   "metadata": {},
   "outputs": [],
   "source": []
  },
  {
   "cell_type": "markdown",
   "metadata": {},
   "source": []
  }
 ],
 "metadata": {
  "kernelspec": {
   "display_name": "base",
   "language": "python",
   "name": "python3"
  },
  "language_info": {
   "name": "python",
   "version": "3.11.7"
  }
 },
 "nbformat": 4,
 "nbformat_minor": 2
}
